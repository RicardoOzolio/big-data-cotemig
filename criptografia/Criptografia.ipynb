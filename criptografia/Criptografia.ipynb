{
 "cells": [
  {
   "cell_type": "markdown",
   "metadata": {},
   "source": [
    "# Criptografia\n",
    "\n",
    "\n",
    "## Overview\n",
    "\n",
    "Nesta tarefa, você construirá dois sistemas criptográficos diferentes - cifra de César e cifra de Vigenere. Este material irá guiá-lo através dos detalhes da construção destes sistemas de criptografia baseada em texto. Queremos estimular boas práticas de Python desde o começo - então nós encorajamos você a pensar criticamente sobre como escrever código Python limpo.\n",
    "\n",
    "## Criando as Cifras\n",
    "\n",
    "Nesta seção, você criará funções de criptografia para criptografar e descriptografar mensagens. Vamos dar uma breve visão geral de cada código.\n",
    "\n",
    "### Cifra de César\n",
    "\n",
    "Uma cifra de César envolve a mudança de cada caractere em um texto simples por três letras adiante:\n",
    "\n",
    "```\n",
    "A -> D, B -> E, C -> F, etc... \n",
    "```\n",
    "\n",
    "No final do alfabeto, o mapeamento de cifra volta ao início, portanto:\n",
    "\n",
    "```\n",
    "..., X -> A, Y -> B, Z -> C.\n",
    "```\n",
    "\n",
    "Por exemplo, criptografar `'PYTHON'` usando uma cifra de Caesar dá\n",
    " \n",
    "```\n",
    "PYTHON\n",
    "||||||\n",
    "SBWKRQ\n",
    "```\n",
    "\n",
    "Nesta parte, implemente as funções:\n",
    "\n",
    "```Python\n",
    "encrypt_caesar(plaintext)\n",
    "decrypt_caesar(ciphertext)\n",
    "```\n",
    "\n",
    "Cada uma dessas funções leva um argumento, uma cadeia representando uma mensagem a ser criptografada ou descriptografada, e retorna uma cadeia representando a mensagem criptografada ou descriptografada.\n",
    "\n",
    "Notas:\n",
    "\n",
    "- Caracteres não alfabéticos não devem ser modificados.\n",
    "- Você pode assumir que todos os caracteres alfabéticos estarão em maiúsculas.\n",
    "- Não assuma que os argumentos para essa função sempre tenham pelo menos um caractere.\n",
    "\n",
    "Isto é, `encrypt_caesar (\" \")` deve retornar `\" \"` (a string vazia) e `encrypt_caesar (\"F1RST P0ST\")` deve retornar `\"I1UVW S0VW\"`.\n"
   ]
  },
  {
   "cell_type": "code",
   "execution_count": 9,
   "metadata": {},
   "outputs": [],
   "source": [
    "#Criptogragia de Cesar evoluida, passando o numero de steps como parâmetro\n",
    "\n",
    "def encrypt_caesar(plaintext,n=3):\n",
    "    \"\"\"Encrypt a plaintext using a Caesar cipher.\"\"\"\n",
    "\n",
    "    # Your implementation here.\n",
    "    plaintext.upper()    \n",
    "    retorno = []\n",
    "    for i in plaintext:\n",
    "        if not i.isalpha():\n",
    "            retorno.append(i)\n",
    "        elif (ord(i)+n <= ord(\"Z\")):\n",
    "            retorno.append(chr(ord(i)+n))\n",
    "        else:\n",
    "            retorno.append(chr(ord(\"A\")+ (ord(i)+n-1)-ord(\"Z\")))\n",
    "            \n",
    "    return ''.join(retorno)\n",
    "    \n",
    "    raise NotImplementedError('encrypt_caesar is not yet implemented!')\n",
    "\n",
    "\n",
    "def decrypt_caesar(ciphertext,n=3):\n",
    "    \"\"\"Decrypt a ciphertext using a Caesar cipher.\"\"\"\n",
    "\n",
    "    # Your implementation here.\n",
    "    ciphertext.upper()\n",
    "    retorno = []\n",
    "    for i in ciphertext:\n",
    "        if not i.isalpha():\n",
    "            retorno.append(i)\n",
    "        elif (ord(i)-n >= ord(\"A\")):\n",
    "            retorno.append(chr(ord(i)-n))\n",
    "        else:\n",
    "            retorno.append(chr(ord(\"Z\")-(ord(\"A\")-ord(i)+n-1)))\n",
    "\n",
    "    return ''.join(retorno)\n",
    "\n",
    "    raise NotImplementedError('decrypt_caesar is not yet implemented!')"
   ]
  },
  {
   "cell_type": "code",
   "execution_count": 274,
   "metadata": {},
   "outputs": [
    {
     "data": {
      "text/plain": [
       "('ABCD #33 XZ',)"
      ]
     },
     "execution_count": 274,
     "metadata": {},
     "output_type": "execute_result"
    }
   ],
   "source": [
    "encrypt_caesar(\"F1RST P0ST\"), # => 'I1UVW S0VW'\n",
    "decrypt_caesar(\"I1UVW S0VW\"), # => 'F1RST P0ST'\n",
    "encrypt_caesar(\"ABCD #33 XZ\",1), # => 'BCDE #33 YA'\n",
    "decrypt_caesar(\"BCDE #33 YA\",1), # => 'ABCD #33 XZ'"
   ]
  },
  {
   "cell_type": "code",
   "execution_count": 217,
   "metadata": {},
   "outputs": [
    {
     "data": {
      "text/plain": [
       "True"
      ]
     },
     "execution_count": 217,
     "metadata": {},
     "output_type": "execute_result"
    }
   ],
   "source": [
    "all([\n",
    "  encrypt_caesar('A') == 'D',\n",
    "  encrypt_caesar('B') == 'E',\n",
    "  encrypt_caesar('I') == 'L',\n",
    "  encrypt_caesar('X') == 'A',\n",
    "  encrypt_caesar('Z') == 'C',\n",
    "  encrypt_caesar('AA') == 'DD',\n",
    "  encrypt_caesar('TH') == 'WK',\n",
    "  encrypt_caesar('CAT') == 'FDW',\n",
    "  encrypt_caesar('DOG') == 'GRJ',\n",
    "  encrypt_caesar('TOO') == 'WRR',\n",
    "  encrypt_caesar('DAMN') == 'GDPQ',\n",
    "  encrypt_caesar('DANIEL') == 'GDQLHO',\n",
    "  encrypt_caesar('PYTHON') == 'SBWKRQ',\n",
    "  encrypt_caesar('WHEEEEEE') == 'ZKHHHHHH',\n",
    "  encrypt_caesar('WITH SPACE') == 'ZLWK VSDFH',\n",
    "  encrypt_caesar('WITH TWO SPACES') == 'ZLWK WZR VSDFHV',\n",
    "  encrypt_caesar('NUM83R5') == 'QXP83U5',\n",
    "  encrypt_caesar('0DD !T$') == '0GG !W$',\n",
    "])"
   ]
  },
  {
   "cell_type": "code",
   "execution_count": 220,
   "metadata": {},
   "outputs": [
    {
     "data": {
      "text/plain": [
       "True"
      ]
     },
     "execution_count": 220,
     "metadata": {},
     "output_type": "execute_result"
    }
   ],
   "source": [
    "all([\n",
    "  decrypt_caesar('D') == 'A',\n",
    "  decrypt_caesar('E') == 'B',\n",
    "  decrypt_caesar('L') == 'I',\n",
    "  decrypt_caesar('A') == 'X',\n",
    "  decrypt_caesar('C') == 'Z',\n",
    "  decrypt_caesar('DD') == 'AA',\n",
    "  decrypt_caesar('WK') == 'TH',\n",
    "  decrypt_caesar('FDW') == 'CAT',\n",
    "  decrypt_caesar('GRJ') == 'DOG',\n",
    "  decrypt_caesar('WRR') == 'TOO',\n",
    "  decrypt_caesar('GDPQ') == 'DAMN',\n",
    "  decrypt_caesar('GDQLHO') == 'DANIEL',\n",
    "  decrypt_caesar('SBWKRQ') == 'PYTHON',\n",
    "  decrypt_caesar('ZKHHHHHH') == 'WHEEEEEE',\n",
    "  decrypt_caesar('ZLWK VSDFH') == 'WITH SPACE',\n",
    "  decrypt_caesar('ZLWK WZR VSDFHV') == 'WITH TWO SPACES',\n",
    "  decrypt_caesar('QXP83U5') == 'NUM83R5',\n",
    "  decrypt_caesar('0GG !W$') == '0DD !T$',\n",
    "])"
   ]
  },
  {
   "cell_type": "markdown",
   "metadata": {},
   "source": [
    "### Cifra de Vigenere\n",
    "\n",
    "Uma cifra de Vigenere é semelhante em natureza a uma cifra de César. No entanto, em uma cifra de Vigenere, cada caractere no texto simples pode ser alterado por uma quantidade variável. A quantidade para mudar qualquer letra no texto plano é determinada por uma palavra-chave, onde 'A' corresponde ao deslocamento de 0 (sem deslocamento), 'B' corresponde a um deslocamento de 1, ... e 'Z' corresponde a um deslocamento de 25, voltando ao início se necessário (como com a cifra de César).\n",
    "\n",
    "A palavra-chave é repetida ou truncada conforme necessário para ajustar o tamanho do texto simples. Como exemplo, criptografar `\" ATTACKATDAWN \"` com a chave `\" LEMON \"` fornece:\n",
    "\n",
    "\n",
    "```\n",
    "Plaintext:      ATTACKATDAWN\n",
    "Key:            LEMONLEMONLE\n",
    "Ciphertext:     LXFOPVEFRNHR\n",
    "```\n",
    "\n",
    "Olhando mais de perto, cada letra no texto cifrado é a soma das letras no texto simples e na chave. Assim, o primeiro caractere do texto cifrado é `\"L\"` devido aos seguintes cálculos:\n",
    "\n",
    "```\n",
    "A + L = 0 + 11 = 11 -> L\n",
    "```\n",
    "\n",
    "O segundo caractere do texto cifrado é `\"X\"` porque mudando `\"T\"` por 4 (associado ao deslocamento por `\"E\"`) fornece:\n",
    "\n",
    "```\n",
    "T + E = 19 + 4 = 23 -> X\n",
    "```\n",
    "\n",
    "Note que, uma vez que estamos considerando A para codificar 0, nossos índices são a posição ordinal de uma letra no alfabeto. Isto é, mesmo que E seja a 5ª letra do alfabeto, ela codifica um deslocamento de 4.\n",
    "\n",
    "O terceiro caractere do texto cifrado é `\"F\"` porque:\n",
    "\n",
    "```\n",
    "T + M = 19 + 12 = 31 -> 5 -> F\n",
    "```\n",
    "\n",
    "Nós contornamos o alfabeto de +31 a +5, resultando em um caractere de texto cifrado de saída de `\"F\"`.\n",
    "\n",
    "Implemente as funções:\n",
    "\n",
    "```Python\n",
    "encrypt_vigenere(plaintext, keyword)\n",
    "decrypt_vigenere(ciphertext, keyword)\n",
    "```\n",
    "\n",
    "Essas funções levam dois argumentos, uma mensagem para criptografar (ou descriptografar) e uma palavra-chave para criptografia ou descriptografia. Ambas as funções devem retornar a mensagem criptografada (ou descriptografada).\n",
    "\n",
    "Notas:\n",
    "\n",
    "- Você pode assumir que todos os caracteres no texto simples, no texto cifrado e na palavra-chave serão alfabéticos (ou seja, sem espaços, números ou pontuação).\n",
    "- Você pode assumir que todos os caracteres serão fornecidos em letras maiúsculas.\n",
    "- Você pode assumir que a palavra-chave terá pelo menos uma letra nela."
   ]
  },
  {
   "cell_type": "markdown",
   "metadata": {},
   "source": [
    "### A\n",
    "Olhando mais de perto, cada letra no texto cifrado é a soma das letras no texto simples e na chave. Assim, o primeiro caractere do texto cifrado é \"L\" devido aos seguintes cálculos:\n",
    "\n",
    "A + L = 0 + 11 = 11 -> L\n",
    "\n",
    "O segundo caractere do texto cifrado é \"X\" porque mudando \"T\" por 4 (associado ao deslocamento por \"E\") fornece:\n",
    "\n",
    "T + E = 19 + 4 = 23 -> X\n",
    "\n",
    "Note que, uma vez que estamos considerando A para codificar 0, nossos índices são a posição ordinal de uma letra no alfabeto. \n",
    "\n",
    "Isto é, mesmo que E seja a 5ª letra do alfabeto, ela codifica um deslocamento de 4.\n",
    "\n",
    "O terceiro caractere do texto cifrado é \"F\" porque:\n",
    "\n",
    "T + M = 19 + 12 = 31 -> 5 -> F\n",
    "\n",
    "Nós contornamos o alfabeto de +31 a +5, resultando em um caractere de texto cifrado de saída de \"F\"."
   ]
  },
  {
   "cell_type": "code",
   "execution_count": 8,
   "metadata": {},
   "outputs": [],
   "source": [
    "def num_alf_vinegere(letra):\n",
    "    if len(letra)==1:\n",
    "        return (ord(letra.upper())-65) \n",
    "    else:\n",
    "        return 0\n",
    "    \n",
    "def alf_num_vinegere(numero):\n",
    "    if numero>=0:\n",
    "        return (chr(numero+65))\n",
    "    else:\n",
    "        return 0"
   ]
  },
  {
   "cell_type": "code",
   "execution_count": 9,
   "metadata": {},
   "outputs": [
    {
     "data": {
      "text/plain": [
       "25"
      ]
     },
     "execution_count": 9,
     "metadata": {},
     "output_type": "execute_result"
    }
   ],
   "source": [
    "num_alf_vinegere(\"z\")"
   ]
  },
  {
   "cell_type": "code",
   "execution_count": 10,
   "metadata": {},
   "outputs": [
    {
     "data": {
      "text/plain": [
       "'B'"
      ]
     },
     "execution_count": 10,
     "metadata": {},
     "output_type": "execute_result"
    }
   ],
   "source": [
    "alf_num_vinegere(1)"
   ]
  },
  {
   "cell_type": "code",
   "execution_count": 11,
   "metadata": {},
   "outputs": [],
   "source": [
    "import itertools as it\n",
    "def encrypt_vigenere(plaintext, keyword):\n",
    "    \"\"\"Encrypt plaintext using a Vigenere cipher with a keyword.\"\"\"\n",
    "    \n",
    "    # Your implementation here.\n",
    "    retorno=[]\n",
    "    plaintext.upper(), keyword.upper()\n",
    "    \n",
    "    if len(keyword)<len(plaintext):\n",
    "        cycle = it.chain.from_iterable(it.repeat(keyword))\n",
    "        keyword=''.join(list(it.islice(cycle, len(plaintext))))\n",
    "    \n",
    "    #print(plaintext, keyword)\n",
    "    #print(list(zip(plaintext, keyword)))\n",
    "    \n",
    "    for i, u in zip(plaintext, keyword):\n",
    "        soma=(num_alf_vinegere(i)+num_alf_vinegere(u))\n",
    "        #print('soma=', soma)\n",
    "        if soma>25:\n",
    "            soma += -26\n",
    "        #print('soma=',soma)\n",
    "        retorno.append(alf_num_vinegere(soma))\n",
    "    \n",
    "    return ''.join(retorno)\n",
    "    raise NotImplementedError('encrypt_vigenere is not yet implemented!')\n",
    "\n",
    "\n",
    "def decrypt_vigenere(ciphertext, keyword):\n",
    "    \"\"\"Decrypt ciphertext using a Vigenere cipher with a keyword.\"\"\"\n",
    "    \n",
    "    # Your implementation here.\n",
    "    retorno=[]\n",
    "    ciphertext.upper(), keyword.upper()\n",
    "    \n",
    "    if len(keyword)<len(ciphertext):\n",
    "        cycle = it.chain.from_iterable(it.repeat(keyword))\n",
    "        keyword=''.join(list(it.islice(cycle, len(ciphertext))))\n",
    "    \n",
    "    #print(ciphertext, keyword)\n",
    "    #print(list(zip(ciphertext, keyword)))\n",
    "    \n",
    "    for i, u in zip(ciphertext, keyword):\n",
    "        soma=(num_alf_vinegere(i)-num_alf_vinegere(u))\n",
    "        #print('soma=', soma)\n",
    "        if soma<0:\n",
    "            soma += +26\n",
    "        #print('soma=',soma)\n",
    "        retorno.append(alf_num_vinegere(soma))\n",
    "    \n",
    "    return ''.join(retorno)\n",
    "\n",
    "    raise NotImplementedError('decrypt_vigenere is not yet implemented!')"
   ]
  },
  {
   "cell_type": "code",
   "execution_count": 12,
   "metadata": {},
   "outputs": [
    {
     "data": {
      "text/plain": [
       "True"
      ]
     },
     "execution_count": 12,
     "metadata": {},
     "output_type": "execute_result"
    }
   ],
   "source": [
    "encrypt_vigenere('SHORTERKEY', 'XYZZYZ') == 'PFNQRDOIDX'"
   ]
  },
  {
   "cell_type": "code",
   "execution_count": 13,
   "metadata": {},
   "outputs": [
    {
     "data": {
      "text/plain": [
       "True"
      ]
     },
     "execution_count": 13,
     "metadata": {},
     "output_type": "execute_result"
    }
   ],
   "source": [
    "all([\n",
    "  encrypt_vigenere('FLEEATONCE', 'A') == 'FLEEATONCE',\n",
    "  encrypt_vigenere('IMHIT', 'H') == 'PTOPA',\n",
    "  encrypt_vigenere('ATTACKATDAWN', 'LEMON') == 'LXFOPVEFRNHR',\n",
    "  encrypt_vigenere('WEAREDISCOVERED', 'LEMON') == 'HIMFROMEQBGIDSQ',\n",
    "  encrypt_vigenere('WEAREDISCOVERED', 'MELON') == 'IILFRPMDQBHICSQ',\n",
    "  encrypt_vigenere('CANTBELIEVE', 'ITSNOTBUTTER') == 'KTFGPXMCXOI',\n",
    "  encrypt_vigenere('CART', 'MAN') == 'OAEF',\n",
    "  encrypt_vigenere('HYPE', 'HYPE') == 'OWEI',\n",
    "  encrypt_vigenere('SAMELENGTH', 'PYTHONISTA') == 'HYFLZRVYMH',\n",
    "  encrypt_vigenere('SHORTERKEY', 'XYZZYZ') == 'PFNQRDOIDX',\n",
    "  encrypt_vigenere('A', 'ONEINPUT') == 'O',\n",
    "])"
   ]
  },
  {
   "cell_type": "code",
   "execution_count": 15,
   "metadata": {},
   "outputs": [
    {
     "data": {
      "text/plain": [
       "True"
      ]
     },
     "execution_count": 15,
     "metadata": {},
     "output_type": "execute_result"
    }
   ],
   "source": [
    "decrypt_vigenere('O', 'ONEINPUT') == 'A'"
   ]
  },
  {
   "cell_type": "code",
   "execution_count": 14,
   "metadata": {},
   "outputs": [
    {
     "data": {
      "text/plain": [
       "True"
      ]
     },
     "execution_count": 14,
     "metadata": {},
     "output_type": "execute_result"
    }
   ],
   "source": [
    "all([\n",
    "  decrypt_vigenere('FLEEATONCE', 'A') == 'FLEEATONCE',\n",
    "  decrypt_vigenere('PTOPA', 'H') == 'IMHIT',\n",
    "  decrypt_vigenere('LXFOPVEFRNHR', 'LEMON') == 'ATTACKATDAWN',\n",
    "  decrypt_vigenere('HIMFROMEQBGIDSQ', 'LEMON') == 'WEAREDISCOVERED',\n",
    "  decrypt_vigenere('IILFRPMDQBHICSQ', 'MELON') == 'WEAREDISCOVERED',\n",
    "  decrypt_vigenere('KTFGPXMCXOI', 'ITSNOTBUTTER') == 'CANTBELIEVE',\n",
    "  decrypt_vigenere('OAEF', 'MAN') == 'CART',\n",
    "  decrypt_vigenere('OWEI', 'HYPE') == 'HYPE',\n",
    "  decrypt_vigenere('HYFLZRVYMH', 'PYTHONISTA') == 'SAMELENGTH',\n",
    "  decrypt_vigenere('PFNQRDOIDX', 'XYZZYZ') == 'SHORTERKEY',\n",
    "  decrypt_vigenere('O', 'ONEINPUT') == 'A',\n",
    "])"
   ]
  },
  {
   "cell_type": "markdown",
   "metadata": {},
   "source": [
    "## Bônus\n",
    "\n",
    "Dê uma olhada em `not_a_secret_message.txt`. Uma extensão possível é tentar descriptografar essa mensagem (ou qualquer mensagem criptografada!). Apesar de não saber qual é a chave. Para essa criptografia, ignore completamente caracteres não alfabéticos.\n",
    "\n",
    "## Dicas\n",
    "\n",
    "O módulo `string` exporta alguns valores úteis:\n",
    "\n",
    "```python\n",
    ">>> import string\n",
    "\n",
    ">>> string.ascii_letters\n",
    "'abcdefghijklmnopqrstuvwxyzABCDEFGHIJKLMNOPQRSTUVWXYZ'\n",
    "\n",
    ">>> string.ascii_uppercase\n",
    "'ABCDEFGHIJKLMNOPQRSTUVWXYZ'\n",
    "\n",
    ">>> string.ascii_lowercase\n",
    "'abcdefghijklmnopqrstuvwxyz'\n",
    "\n",
    ">>> string.punctuation\n",
    "'!\"#$%&\\'()*+,-./:;<=>?@[\\\\]^_`{|}~'\n",
    "```\n",
    "\n",
    "Pense no que sabemos sobre estruturas de dados. Como podemos criar e manipular eficientemente listas e dicionários?\n",
    "\n",
    "Como você pode percorrer as letras do argumento `keyword` da cifra de Vigenere? Considere olhar para funções exportadas pelo módulo `itertools`.\n",
    "\n",
    "Você pode usar as funções `ord` e` chr` que convertem strings de comprimento um para seus equivalentes numéricos ASCII. Por exemplo, `ord ('A') == 65`,` ord ('B') == 66`, ..., `ord ('Z') == 90` e` chr (65) == 'A'`, `chr (66) ==' B'`, ...,` chr (90) == 'Z'`.\n",
    "\n",
    "## Créditos\n",
    "\n",
    "*Sherman Leung (@skleung), Python Tutorial, Learn Python the Hard Way, Google Python, MIT OCW 6.189, Project Euler, and Wikipedia's list of ciphers.*\n",
    "\n",
    "> With <3 by @sredmond "
   ]
  }
 ],
 "metadata": {
  "kernelspec": {
   "display_name": "Python 3",
   "language": "python",
   "name": "python3"
  },
  "language_info": {
   "codemirror_mode": {
    "name": "ipython",
    "version": 3
   },
   "file_extension": ".py",
   "mimetype": "text/x-python",
   "name": "python",
   "nbconvert_exporter": "python",
   "pygments_lexer": "ipython3",
   "version": "3.7.1"
  }
 },
 "nbformat": 4,
 "nbformat_minor": 2
}
